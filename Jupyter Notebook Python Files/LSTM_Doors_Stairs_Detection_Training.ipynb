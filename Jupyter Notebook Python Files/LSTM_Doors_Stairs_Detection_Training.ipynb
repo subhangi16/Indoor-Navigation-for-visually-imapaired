{
 "cells": [
  {
   "cell_type": "code",
   "execution_count": 1,
   "metadata": {},
   "outputs": [],
   "source": [
    "### Step 1: import modules"
   ]
  },
  {
   "cell_type": "code",
   "execution_count": null,
   "metadata": {},
   "outputs": [],
   "source": [
    "import tensorflow as tf\n",
    "import os\n",
    "import cv2\n",
    "import numpy as np\n",
    "import matplotlib.pyplot as plt\n",
    "import tqdm\n",
    "from sklearn.preprocessing import LabelBinarizer"
   ]
  },
  {
   "cell_type": "code",
   "execution_count": null,
   "metadata": {},
   "outputs": [],
   "source": [
    "### Step 2: setup variables"
   ]
  },
  {
   "cell_type": "code",
   "execution_count": null,
   "metadata": {},
   "outputs": [],
   "source": [
    "BASE_PATH = '/Users/subhi/Downloads/demo/Data1'\n",
    "VIDEOS_PATH = os.path.join(BASE_PATH, '**','*.mp4')\n",
    "\n",
    "#this specifies the sequence length will process by LSTM\n",
    "SEQUENCE_LENGTH = 40\n",
    "#this specifies the Batch size that will be processed by LSTM\n",
    "BATCH_SIZE = 16\n",
    "print(VIDEOS_PATH)"
   ]
  },
  {
   "cell_type": "code",
   "execution_count": null,
   "metadata": {},
   "outputs": [],
   "source": [
    "###STEP 3: Create a MyLabelBinarizer for 2 Classes"
   ]
  },
  {
   "cell_type": "code",
   "execution_count": null,
   "metadata": {},
   "outputs": [],
   "source": [
    "class MyLabelBinarizer(LabelBinarizer):\n",
    "    def transform(self, y):\n",
    "        Y = super().transform(y)\n",
    "        if self.y_type_ == 'binary':\n",
    "            return np.hstack((Y, 1-Y))\n",
    "        else:\n",
    "            return Y\n",
    "    def inverse_transform(self, Y, threshold=None):\n",
    "        if self.y_type_ == 'binary':\n",
    "            return super().inverse_transform(Y[:, 0], threshold)\n",
    "        else:\n",
    "            return super().inverse_transform(Y, threshold)"
   ]
  },
  {
   "cell_type": "code",
   "execution_count": null,
   "metadata": {},
   "outputs": [],
   "source": [
    "LABELS = ['Stairs','Doors']\n",
    "encoder = MyLabelBinarizer()\n",
    "encoder.fit(LABELS)"
   ]
  },
  {
   "cell_type": "code",
   "execution_count": null,
   "metadata": {},
   "outputs": [],
   "source": [
    "###STEP 4:\n",
    "\n",
    "###Create the LSTM model:    \n",
    "### 1) Masking layer  2) LSTM layer with 512 cells, dropout 0.5, recurrent_dropout of 0.5  \n",
    "\n",
    "###3) a fully connected relu activation layer with 256 outputs, 4) a droupout layer 0.5\n",
    "### 5) a final decision fully connected layer of putput length of labels (which is the number of classes) \n",
    "### with softmax activation.\n",
    "model = tf.keras.Sequential([\n",
    "    tf.keras.layers.Masking(mask_value=0.),\n",
    "    tf.keras.layers.LSTM(512, dropout=0.5, recurrent_dropout=0.5),\n",
    "    tf.keras.layers.Dense(256, activation='relu'),\n",
    "    tf.keras.layers.Dropout(0.5),\n",
    "    tf.keras.layers.Dense(2, activation='softmax')\n",
    "    #tf.keras.layers.Dense(len(LABELS), activation='softmax')\n",
    "])"
   ]
  },
  {
   "cell_type": "code",
   "execution_count": null,
   "metadata": {},
   "outputs": [],
   "source": [
    "### Step 5: Setup for the model the Loss function, the Optimizer function, and any metrics want to compute in training"
   ]
  },
  {
   "cell_type": "code",
   "execution_count": null,
   "metadata": {},
   "outputs": [],
   "source": [
    "model.compile(loss='categorical_crossentropy',\n",
    "              optimizer='rmsprop',\n",
    "              metrics=['accuracy', 'top_k_categorical_accuracy'])"
   ]
  },
  {
   "cell_type": "code",
   "execution_count": null,
   "metadata": {},
   "outputs": [],
   "source": [
    "### STEP 6:\n",
    "\n",
    "## Setup the training and test list which are lists of the training filenames.  \n",
    "## Defined a function make_generator that returns a generator which will randomly shuffle \n",
    "## a file list (either training or testing that will be passed later) and \n",
    "## then changes the file extension of the mp4 files listed in the list to .npy which is our features\n",
    "## for that mp4 video which were calcluated in featureExtractionNotebook last step\n"
   ]
  },
  {
   "cell_type": "code",
   "execution_count": null,
   "metadata": {},
   "outputs": [],
   "source": [
    "train_file = '/Users/subhi/Downloads/demo/Data1/trainlist.txt'\n",
    "test_file = '/Users/subhi/Downloads/demo/Data1/testlist.txt'\n",
    "#test_file = 'C:/Grewe/Classes/CS663/Mat/LSTM/data/testlist01.txt'\n",
    "#train_file = 'C:/Grewe/Classes/CS663/Mat/LSTM/data/trainlist01.txt'\n",
    "\n",
    "with open(test_file) as f:\n",
    "    test_list = [row.strip() for row in list(f)]\n",
    "\n",
    "with open(train_file) as f:\n",
    "     train_list = [row.strip() for row in list(f)]\n",
    "     #train_list=[row.split(' ')[0] for row in train_list]\n",
    "     train_list = [row.split(' ')[0] for row in train_list]\n",
    "#print(train_list)\n",
    "def make_generator(file_list):\n",
    "    def generator():\n",
    "        np.random.shuffle(file_list)\n",
    "        for path in file_list:\n",
    "            full_path = os.path.join(BASE_PATH, path).replace('.mp4', '.npy')\n",
    "            \n",
    "            label = os.path.basename(os.path.dirname(path))\n",
    "            features = np.load(full_path)\n",
    "            \n",
    "            \n",
    "            padded_sequence = np.zeros((SEQUENCE_LENGTH, 1280))\n",
    "            padded_sequence[0:len(features)] = np.array(features)\n",
    "            \n",
    "            transformed_label = encoder.transform([label])\n",
    "            \n",
    "            yield padded_sequence, transformed_label[0]\n",
    "    return generator"
   ]
  },
  {
   "cell_type": "code",
   "execution_count": null,
   "metadata": {},
   "outputs": [],
   "source": [
    "print(train_list)"
   ]
  },
  {
   "cell_type": "code",
   "execution_count": null,
   "metadata": {},
   "outputs": [],
   "source": [
    "print(test_list)"
   ]
  },
  {
   "cell_type": "code",
   "execution_count": null,
   "metadata": {},
   "outputs": [],
   "source": [
    "### STEP 7:\n",
    "\n",
    "### Setup the train_dataset and valid_dataset (validation/testing). \n",
    "### Here we are setting up training batch sets of 16, as defined above.\n",
    "#for tesnorflow 2.*\n",
    "train_dataset = tf.data.Dataset.from_generator(make_generator(train_list),\n",
    "                output_types=(tf.float32, tf.int16),\n",
    "                output_shapes=((SEQUENCE_LENGTH, 1280), (len(LABELS))))\n",
    "                 \n",
    "\n",
    "train_dataset = train_dataset.batch(BATCH_SIZE,drop_remainder=True).prefetch(tf.data.experimental.AUTOTUNE)\n",
    "\n",
    "\n",
    "valid_dataset = tf.data.Dataset.from_generator(make_generator(test_list),\n",
    "                 output_types=(tf.float32, tf.int16),\n",
    "                 output_shapes=((SEQUENCE_LENGTH, 1280), (len(LABELS))))\n",
    "valid_dataset = valid_dataset.batch(BATCH_SIZE,drop_remainder=True).prefetch(tf.data.experimental.AUTOTUNE)\n"
   ]
  },
  {
   "cell_type": "code",
   "execution_count": null,
   "metadata": {},
   "outputs": [],
   "source": [
    "print(train_dataset)"
   ]
  },
  {
   "cell_type": "code",
   "execution_count": null,
   "metadata": {},
   "outputs": [],
   "source": [
    "print(valid_dataset)"
   ]
  },
  {
   "cell_type": "code",
   "execution_count": null,
   "metadata": {},
   "outputs": [],
   "source": [
    "BASE_DATA_PATH = '/Users/subhi/Downloads/demo/Data1'\n",
    "mylog_dir = os.path.join( BASE_DATA_PATH, \"train_log\")\n",
    "print(\"Mylog directory = \" + mylog_dir)"
   ]
  },
  {
   "cell_type": "code",
   "execution_count": null,
   "metadata": {},
   "outputs": [],
   "source": [
    "tensorboard_callback = tf.keras.callbacks.TensorBoard(os.path.join('tmp'), update_freq=1000)\n",
    "model.fit(train_dataset, epochs=50, callbacks=[tensorboard_callback], validation_data=valid_dataset)"
   ]
  },
  {
   "cell_type": "code",
   "execution_count": null,
   "metadata": {},
   "outputs": [],
   "source": [
    "model.summary()"
   ]
  },
  {
   "cell_type": "code",
   "execution_count": null,
   "metadata": {},
   "outputs": [],
   "source": [
    "### STEP 8:  save the tensorflow model to an h5 file"
   ]
  },
  {
   "cell_type": "code",
   "execution_count": null,
   "metadata": {},
   "outputs": [],
   "source": [
    "model.file=os.path.join(BASE_PATH,'my_model.h5')\n",
    "model.save(model.file)"
   ]
  },
  {
   "cell_type": "code",
   "execution_count": null,
   "metadata": {},
   "outputs": [],
   "source": [
    "### STEP 9: Run predictions on the test data feature extracted"
   ]
  },
  {
   "cell_type": "code",
   "execution_count": null,
   "metadata": {},
   "outputs": [],
   "source": [
    "# make predictions\n",
    "\n",
    "# Generate predictions (probabilities -- the output of the last layer)\n",
    "# on new data using `predict`\n",
    "print('\\n# Generate predictions ')\n",
    "predictions = model.predict(valid_dataset, verbose=1 )"
   ]
  },
  {
   "cell_type": "code",
   "execution_count": null,
   "metadata": {},
   "outputs": [],
   "source": [
    "#print out prediction info for validation data set (as do not have separate test data set)\n",
    "print('predictions shape:', predictions.shape)\n",
    "print(predictions)\n",
    "print(len(predictions))"
   ]
  },
  {
   "cell_type": "code",
   "execution_count": null,
   "metadata": {},
   "outputs": [],
   "source": [
    "# ## OPTIONAL:  Save to a SavedModel\n",
    "\n",
    "#create directory to save the SavedModel\n",
    "#setup directories\n",
    "saved_model_dir1 = os.path.join(BASE_DATA_PATH, 'saved_model')\n",
    "print(\" path exists=\" + str(os.path.exists(saved_model_dir1)))\n",
    "if(os.path.exists(saved_model_dir1) == False):\n",
    "    print(\" creating\" + str(saved_model_dir1))\n",
    "    os.mkdir(saved_model_dir1)\n",
    "    \n",
    "saved_model_dir = os.path.join(BASE_DATA_PATH, 'saved_model\\LSTM_SavedModel')    \n",
    "if(os.path.exists(saved_model_dir) == False):\n",
    "    print(\" creating\" + str(saved_model_dir))\n",
    "    os.mkdir(saved_model_dir)"
   ]
  },
  {
   "cell_type": "code",
   "execution_count": null,
   "metadata": {},
   "outputs": [],
   "source": [
    "#save model as SavedModel\n",
    "tf.keras.experimental.export_saved_model(model, saved_model_dir)"
   ]
  },
  {
   "cell_type": "code",
   "execution_count": null,
   "metadata": {},
   "outputs": [],
   "source": [
    "%load_ext tensorboard\n",
    "%tensorboard --logdir=\"train_log\" --host localhost --port=8084"
   ]
  },
  {
   "cell_type": "code",
   "execution_count": null,
   "metadata": {},
   "outputs": [],
   "source": [
    "%reload_ext tensorboard"
   ]
  },
  {
   "cell_type": "code",
   "execution_count": null,
   "metadata": {},
   "outputs": [],
   "source": [
    "print(\"     --shape is\" + str(predictions.shape))"
   ]
  }
 ],
 "metadata": {
  "kernelspec": {
   "display_name": "Python 3",
   "language": "python",
   "name": "python3"
  },
  "language_info": {
   "codemirror_mode": {
    "name": "ipython",
    "version": 3
   },
   "file_extension": ".py",
   "mimetype": "text/x-python",
   "name": "python",
   "nbconvert_exporter": "python",
   "pygments_lexer": "ipython3",
   "version": "3.7.4"
  }
 },
 "nbformat": 4,
 "nbformat_minor": 2
}
