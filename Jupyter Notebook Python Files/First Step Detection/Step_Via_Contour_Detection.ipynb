{
 "cells": [
  {
   "cell_type": "code",
   "execution_count": null,
   "metadata": {},
   "outputs": [
    {
     "name": "stdout",
     "output_type": "stream",
     "text": [
      "left: (438, 633)\n",
      "right: (712, 684)\n",
      "top: (538, 517)\n",
      "bottom: (447, 743)\n"
     ]
    }
   ],
   "source": [
    "import cv2\n",
    "import numpy as np\n",
    "from matplotlib import pyplot as plt\n",
    "\n",
    "\n",
    "im = cv2.imread('C:/Users/STSC/Downloads/Test_cont.JPEG');\n",
    "op = cv2.imread('C:/Users/STSC/Downloads/Test_cont.JPEG');\n",
    "\n",
    "blur = cv2.GaussianBlur(im, (3,3), 0)\n",
    "gray = cv2.cvtColor(blur, cv2.COLOR_BGR2GRAY)\n",
    "\n",
    "thresh = cv2.threshold(gray, 220, 255, cv2.THRESH_BINARY_INV)[1]\n",
    "im = cv2.Canny(im,100,200)\n",
    "\n",
    "#hough line transform\n",
    "\n",
    "\n",
    "cnts = cv2.findContours(im, cv2.RETR_EXTERNAL, cv2.CHAIN_APPROX_SIMPLE)\n",
    "cnts = cnts[0] if len(cnts) == 2 else cnts[1]\n",
    "c = max(cnts, key=cv2.contourArea)\n",
    "\n",
    "left = tuple(c[c[:, :, 0].argmin()][0])\n",
    "right = tuple(c[c[:, :, 0].argmax()][0])\n",
    "top = tuple(c[c[:, :, 1].argmin()][0])\n",
    "bottom = tuple(c[c[:, :, 1].argmax()][0])\n",
    "\n",
    "#cv2.drawContours(im, [c], -1, (36, 255, 12), 2)\n",
    "cv2.drawContours(op, [c], -1, (36, 255, 0), 2)\n",
    "\n",
    "cv2.circle(op, left, 8, (255, 0, 0), -1)\n",
    "\n",
    "cv2.circle(op, right, 8, (255, 0, 0), -1)\n",
    "cv2.circle(op, top, 8, (255, 0, 0), -1)\n",
    "cv2.circle(op, bottom, 8, (255, 0, 0), -1)\n",
    "\n",
    "print('left: {}'.format(left))\n",
    "print('right: {}'.format(right))\n",
    "print('top: {}'.format(top))\n",
    "print('bottom: {}'.format(bottom))\n",
    "cv2.imshow('thresh', thresh)\n",
    "cv2.imshow('image', op)\n",
    "cv2.waitKey()"
   ]
  },
  {
   "cell_type": "code",
   "execution_count": null,
   "metadata": {},
   "outputs": [],
   "source": []
  }
 ],
 "metadata": {
  "kernelspec": {
   "display_name": "Python 3",
   "language": "python",
   "name": "python3"
  },
  "language_info": {
   "codemirror_mode": {
    "name": "ipython",
    "version": 3
   },
   "file_extension": ".py",
   "mimetype": "text/x-python",
   "name": "python",
   "nbconvert_exporter": "python",
   "pygments_lexer": "ipython3",
   "version": "3.7.4"
  }
 },
 "nbformat": 4,
 "nbformat_minor": 2
}
